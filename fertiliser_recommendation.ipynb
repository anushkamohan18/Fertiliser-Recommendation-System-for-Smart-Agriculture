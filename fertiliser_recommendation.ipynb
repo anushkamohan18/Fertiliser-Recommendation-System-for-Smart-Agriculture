{
  "nbformat": 4,
  "nbformat_minor": 0,
  "metadata": {
    "colab": {
      "provenance": [],
      "authorship_tag": "ABX9TyO9kWkr/BXWd62YUfegmvig",
      "include_colab_link": true
    },
    "kernelspec": {
      "name": "python3",
      "display_name": "Python 3"
    },
    "language_info": {
      "name": "python"
    }
  },
  "cells": [
    {
      "cell_type": "markdown",
      "metadata": {
        "id": "view-in-github",
        "colab_type": "text"
      },
      "source": [
        "<a href=\"https://colab.research.google.com/github/anushkamohan18/Fertiliser-Recommendation-System-for-Smart-Agriculture/blob/main/fertiliser_recommendation.ipynb\" target=\"_parent\"><img src=\"https://colab.research.google.com/assets/colab-badge.svg\" alt=\"Open In Colab\"/></a>"
      ]
    },
    {
      "cell_type": "code",
      "execution_count": null,
      "metadata": {
        "colab": {
          "base_uri": "https://localhost:8080/"
        },
        "id": "2XOHdoivxKhQ",
        "outputId": "21e6bb17-35ea-4c6a-b5f3-d31ff1c51dff"
      },
      "outputs": [
        {
          "output_type": "stream",
          "name": "stdout",
          "text": [
            "Requirement already satisfied: openpyxl in /usr/local/lib/python3.11/dist-packages (3.1.5)\n",
            "Requirement already satisfied: et-xmlfile in /usr/local/lib/python3.11/dist-packages (from openpyxl) (2.0.0)\n"
          ]
        }
      ],
      "source": [
        "!pip install openpyxl"
      ]
    },
    {
      "cell_type": "code",
      "source": [
        "import pandas as pd\n",
        "import numpy as np\n",
        "\n",
        "# Load the dataset\n",
        "df = pd.read_excel(\"IOT_soil_fully_updated.xlsx\")\n",
        "\n",
        "# Display first few rows\n",
        "print(\"Sample data:\")\n",
        "print(df.head())\n",
        "\n",
        "# Encode fertilizer names into numbers for training (label encoding)\n",
        "fertilizer_labels = df['Fertilizer Name'].unique()\n",
        "label_to_number = {name: idx for idx, name in enumerate(fertilizer_labels)}\n",
        "number_to_label = {idx: name for name, idx in label_to_number.items()}\n",
        "\n",
        "# Apply the encoding\n",
        "df['Label'] = df['Fertilizer Name'].map(label_to_number)\n",
        "\n",
        "# Split features and labels\n",
        "X = df.drop(columns=['Fertilizer Name', 'Label']).values\n",
        "y = df['Label'].values\n",
        "\n",
        "print(\"\\nFeature shape:\", X.shape)\n",
        "print(\"Labels:\", np.unique(y))\n"
      ],
      "metadata": {
        "colab": {
          "base_uri": "https://localhost:8080/"
        },
        "id": "FQ9c3WcVxtuy",
        "outputId": "ce92a3b9-0b45-4710-e4b6-b0f8a156991d"
      },
      "execution_count": null,
      "outputs": [
        {
          "output_type": "stream",
          "name": "stdout",
          "text": [
            "Sample data:\n",
            "   Temparature  Humidity     Ph  Nitrogen  Potassium  Phosphorous  \\\n",
            "0           35     109.7  19.19        67        883         2356   \n",
            "1           35     109.7  16.43        74        725         2356   \n",
            "2           35     109.7  16.23        65        714         2357   \n",
            "3           35     109.7  16.26        56        715         2356   \n",
            "4           35     109.7  15.57        39        700         2355   \n",
            "\n",
            "  Fertilizer Name  \n",
            "0        17-17-17  \n",
            "1           20-20  \n",
            "2        10-26-26  \n",
            "3        14-35-14  \n",
            "4        14-35-14  \n",
            "\n",
            "Feature shape: (8000, 6)\n",
            "Labels: [0 1 2 3 4 5 6]\n"
          ]
        }
      ]
    },
    {
      "cell_type": "code",
      "source": [
        "class Node:\n",
        "    def __init__(self, feature=None, threshold=None, left=None, right=None, *, value=None):\n",
        "        self.feature = feature\n",
        "        self.threshold = threshold\n",
        "        self.left = left\n",
        "        self.right = right\n",
        "        self.value = value  # only for leaf\n",
        "\n",
        "    def is_leaf_node(self):\n",
        "        return self.value is not None\n",
        "\n",
        "\n",
        "class DecisionTree:\n",
        "    def __init__(self, max_depth=10, min_samples_split=2):\n",
        "        self.max_depth = max_depth\n",
        "        self.min_samples_split = min_samples_split\n",
        "        self.root = None\n",
        "\n",
        "    def fit(self, X, y):\n",
        "        self.root = self._build_tree(X, y)\n",
        "\n",
        "    def _build_tree(self, X, y, depth=0):\n",
        "        num_samples, num_features = X.shape\n",
        "        num_labels = len(np.unique(y))\n",
        "\n",
        "        if depth >= self.max_depth or num_labels == 1 or num_samples < self.min_samples_split:\n",
        "            leaf_value = self._most_common_label(y)\n",
        "            return Node(value=leaf_value)\n",
        "\n",
        "        best_feat, best_thresh = self._best_split(X, y, num_features)\n",
        "\n",
        "        if best_feat is None:\n",
        "            return Node(value=self._most_common_label(y))\n",
        "\n",
        "        left_idx = X[:, best_feat] < best_thresh\n",
        "        right_idx = X[:, best_feat] >= best_thresh\n",
        "\n",
        "        # 🔐 Important fix: handle case where a split is empty\n",
        "        if np.sum(left_idx) == 0 or np.sum(right_idx) == 0:\n",
        "            return Node(value=self._most_common_label(y))\n",
        "\n",
        "        left = self._build_tree(X[left_idx], y[left_idx], depth + 1)\n",
        "        right = self._build_tree(X[right_idx], y[right_idx], depth + 1)\n",
        "\n",
        "        return Node(best_feat, best_thresh, left, right)\n",
        "\n",
        "    def _best_split(self, X, y, num_features):\n",
        "        best_gain = -1\n",
        "        split_idx, split_thresh = None, None\n",
        "\n",
        "        for feature in range(num_features):\n",
        "            thresholds = np.unique(X[:, feature])\n",
        "            for t in thresholds:\n",
        "                gain = self._information_gain(y, X[:, feature], t)\n",
        "                if gain > best_gain:\n",
        "                    best_gain = gain\n",
        "                    split_idx = feature\n",
        "                    split_thresh = t\n",
        "\n",
        "        return split_idx, split_thresh\n",
        "\n",
        "    def _information_gain(self, y, feature_column, threshold):\n",
        "        parent_loss = self._gini(y)\n",
        "\n",
        "        left_idx = feature_column < threshold\n",
        "        right_idx = feature_column >= threshold\n",
        "\n",
        "        if len(y[left_idx]) == 0 or len(y[right_idx]) == 0:\n",
        "            return 0\n",
        "\n",
        "        n = len(y)\n",
        "        n_left, n_right = len(y[left_idx]), len(y[right_idx])\n",
        "        e_left, e_right = self._gini(y[left_idx]), self._gini(y[right_idx])\n",
        "        child_loss = (n_left / n) * e_left + (n_right / n) * e_right\n",
        "\n",
        "        return parent_loss - child_loss\n",
        "\n",
        "    def _gini(self, y):\n",
        "        classes, counts = np.unique(y, return_counts=True)\n",
        "        probs = counts / counts.sum()\n",
        "        return 1 - np.sum(probs ** 2)\n",
        "\n",
        "    def _most_common_label(self, y):\n",
        "        if len(y) == 0:\n",
        "            return 0  # Safe fallback if no data\n",
        "        return np.bincount(y).argmax()\n",
        "\n",
        "    def predict(self, X):\n",
        "        return np.array([self._traverse_tree(x, self.root) for x in X])\n",
        "\n",
        "    def _traverse_tree(self, x, node):\n",
        "        if node.is_leaf_node():\n",
        "            return node.value\n",
        "\n",
        "        if x[node.feature] < node.threshold:\n",
        "            return self._traverse_tree(x, node.left)\n",
        "        return self._traverse_tree(x, node.right)\n"
      ],
      "metadata": {
        "id": "SlaYQXj8yLtF"
      },
      "execution_count": null,
      "outputs": []
    },
    {
      "cell_type": "code",
      "source": [
        "from sklearn.model_selection import train_test_split\n",
        "from sklearn.metrics import accuracy_score, classification_report, confusion_matrix\n",
        "\n",
        "# Step 1: Split data into train and test sets (80/20 split)\n",
        "X_train, X_test, y_train, y_test = train_test_split(\n",
        "    X, y, test_size=0.2, random_state=42, stratify=y\n",
        ")\n",
        "\n",
        "# Step 2: Create and train the Decision Tree\n",
        "tree = DecisionTree(max_depth=10, min_samples_split=5)\n",
        "tree.fit(X_train, y_train)\n",
        "\n",
        "# Step 3: Predict on the test data\n",
        "y_pred = tree.predict(X_test)\n",
        "\n",
        "# Step 4: Evaluate the model\n",
        "acc = accuracy_score(y_test, y_pred)\n",
        "print(f\"🌱 Custom Decision Tree Accuracy: {acc * 100:.2f}%\")\n",
        "\n",
        "# Optional: Print detailed classification report\n",
        "print(\"\\nClassification Report:\")\n",
        "print(classification_report(y_test, y_pred))\n",
        "\n",
        "# Optional: Confusion matrix\n",
        "print(\"Confusion Matrix:\")\n",
        "print(confusion_matrix(y_test, y_pred))\n"
      ],
      "metadata": {
        "colab": {
          "base_uri": "https://localhost:8080/"
        },
        "id": "J2qP4V8AyrO1",
        "outputId": "80a19475-2be3-4d86-9187-de795a1819fd"
      },
      "execution_count": null,
      "outputs": [
        {
          "output_type": "stream",
          "name": "stdout",
          "text": [
            "🌱 Custom Decision Tree Accuracy: 14.31%\n",
            "\n",
            "Classification Report:\n",
            "              precision    recall  f1-score   support\n",
            "\n",
            "           0       0.15      0.08      0.10       225\n",
            "           1       0.00      0.00      0.00       221\n",
            "           2       0.16      0.17      0.17       226\n",
            "           3       0.14      0.14      0.14       237\n",
            "           4       0.14      0.30      0.19       233\n",
            "           5       0.14      0.22      0.17       224\n",
            "           6       0.15      0.08      0.10       234\n",
            "\n",
            "    accuracy                           0.14      1600\n",
            "   macro avg       0.12      0.14      0.12      1600\n",
            "weighted avg       0.13      0.14      0.13      1600\n",
            "\n",
            "Confusion Matrix:\n",
            "[[18  0 34 32 77 46 18]\n",
            " [15  0 33 33 68 55 17]\n",
            " [20  0 39 35 70 47 15]\n",
            " [12  0 24 34 84 59 24]\n",
            " [20  0 32 35 71 60 15]\n",
            " [18  0 36 37 67 49 17]\n",
            " [17  0 39 36 80 44 18]]\n"
          ]
        },
        {
          "output_type": "stream",
          "name": "stderr",
          "text": [
            "/usr/local/lib/python3.11/dist-packages/sklearn/metrics/_classification.py:1565: UndefinedMetricWarning: Precision is ill-defined and being set to 0.0 in labels with no predicted samples. Use `zero_division` parameter to control this behavior.\n",
            "  _warn_prf(average, modifier, f\"{metric.capitalize()} is\", len(result))\n",
            "/usr/local/lib/python3.11/dist-packages/sklearn/metrics/_classification.py:1565: UndefinedMetricWarning: Precision is ill-defined and being set to 0.0 in labels with no predicted samples. Use `zero_division` parameter to control this behavior.\n",
            "  _warn_prf(average, modifier, f\"{metric.capitalize()} is\", len(result))\n",
            "/usr/local/lib/python3.11/dist-packages/sklearn/metrics/_classification.py:1565: UndefinedMetricWarning: Precision is ill-defined and being set to 0.0 in labels with no predicted samples. Use `zero_division` parameter to control this behavior.\n",
            "  _warn_prf(average, modifier, f\"{metric.capitalize()} is\", len(result))\n"
          ]
        }
      ]
    },
    {
      "cell_type": "code",
      "source": [
        "class DecisionTree:\n",
        "    def __init__(self, max_depth=10, min_samples_split=2):\n",
        "        self.max_depth = max_depth\n",
        "        self.min_samples_split = min_samples_split\n",
        "        self.root = None\n",
        "        self.feature_weights = {\n",
        "            0: 1.0,  # Temperature\n",
        "            1: 1.0,  # Humidity\n",
        "            2: 1.5,  # Ph (most important)\n",
        "            3: 1.4,  # Nitrogen\n",
        "            4: 1.3,  # Potassium\n",
        "            5: 1.4   # Phosphorous\n",
        "        }\n",
        "\n",
        "    def fit(self, X, y):\n",
        "        self.root = self._build_tree(X, y)\n",
        "\n",
        "    def _build_tree(self, X, y, depth=0):\n",
        "        num_samples, num_features = X.shape\n",
        "        num_labels = len(np.unique(y))\n",
        "\n",
        "        if depth >= self.max_depth or num_labels == 1 or num_samples < self.min_samples_split:\n",
        "            leaf_value = self._most_common_label(y)\n",
        "            return Node(value=leaf_value)\n",
        "\n",
        "        best_feat, best_thresh = self._best_split(X, y, num_features)\n",
        "\n",
        "        if best_feat is None:\n",
        "            return Node(value=self._most_common_label(y))\n",
        "\n",
        "        left_idx = X[:, best_feat] < best_thresh\n",
        "        right_idx = X[:, best_feat] >= best_thresh\n",
        "\n",
        "        if np.sum(left_idx) == 0 or np.sum(right_idx) == 0:\n",
        "            return Node(value=self._most_common_label(y))\n",
        "\n",
        "        left = self._build_tree(X[left_idx], y[left_idx], depth + 1)\n",
        "        right = self._build_tree(X[right_idx], y[right_idx], depth + 1)\n",
        "\n",
        "        return Node(best_feat, best_thresh, left, right)\n",
        "\n",
        "    def _best_split(self, X, y, num_features):\n",
        "        best_gain = -1\n",
        "        split_idx, split_thresh = None, None\n",
        "\n",
        "        for feature in range(num_features):\n",
        "            thresholds = np.unique(X[:, feature])\n",
        "            for t in thresholds:\n",
        "                gain = self._information_gain(y, X[:, feature], t)\n",
        "                weighted_gain = gain * self.feature_weights.get(feature, 1.0)\n",
        "\n",
        "                if weighted_gain > best_gain:\n",
        "                    best_gain = weighted_gain\n",
        "                    split_idx = feature\n",
        "                    split_thresh = t\n",
        "\n",
        "        return split_idx, split_thresh\n",
        "\n",
        "    def _information_gain(self, y, feature_column, threshold):\n",
        "        parent_loss = self._gini(y)\n",
        "        left_idx = feature_column < threshold\n",
        "        right_idx = feature_column >= threshold\n",
        "\n",
        "        if len(y[left_idx]) == 0 or len(y[right_idx]) == 0:\n",
        "            return 0\n",
        "\n",
        "        n = len(y)\n",
        "        n_left, n_right = len(y[left_idx]), len(y[right_idx])\n",
        "        e_left, e_right = self._gini(y[left_idx]), self._gini(y[right_idx])\n",
        "        child_loss = (n_left / n) * e_left + (n_right / n) * e_right\n",
        "\n",
        "        return parent_loss - child_loss\n",
        "\n",
        "    def _gini(self, y):\n",
        "        classes, counts = np.unique(y, return_counts=True)\n",
        "        probs = counts / counts.sum()\n",
        "        return 1 - np.sum(probs ** 2)\n",
        "\n",
        "    def _most_common_label(self, y):\n",
        "        if len(y) == 0:\n",
        "            return 0\n",
        "        return np.bincount(y).argmax()\n",
        "\n",
        "    def predict(self, X):\n",
        "        return np.array([self._traverse_tree(x, self.root) for x in X])\n",
        "\n",
        "    def _traverse_tree(self, x, node):\n",
        "        if node.is_leaf_node():\n",
        "            return node.value\n",
        "        if x[node.feature] < node.threshold:\n",
        "            return self._traverse_tree(x, node.left)\n",
        "        return self._traverse_tree(x, node.right)\n"
      ],
      "metadata": {
        "id": "3SWdL7w10YK8"
      },
      "execution_count": null,
      "outputs": []
    },
    {
      "cell_type": "code",
      "source": [
        "forest = RandomForest(n_trees=30, max_depth=15, min_samples_split=5)\n",
        "forest.fit(X_train, y_train)\n",
        "\n",
        "y_pred_forest = forest.predict(X_test)\n",
        "acc_forest = accuracy_score(y_test, y_pred_forest)\n",
        "print(f\"🌳 Improved Random Forest Accuracy: {acc_forest * 100:.2f}%\")\n"
      ],
      "metadata": {
        "colab": {
          "base_uri": "https://localhost:8080/"
        },
        "id": "H3sLIuEm0aH-",
        "outputId": "ccb971a9-7439-44a8-fed0-b4de462e8940"
      },
      "execution_count": null,
      "outputs": [
        {
          "output_type": "stream",
          "name": "stdout",
          "text": [
            "🌳 Improved Random Forest Accuracy: 14.06%\n"
          ]
        }
      ]
    },
    {
      "cell_type": "code",
      "source": [
        "import matplotlib.pyplot as plt\n",
        "\n",
        "classes, counts = np.unique(y, return_counts=True)\n",
        "plt.bar([number_to_label[c] for c in classes], counts)\n",
        "plt.xticks(rotation=45)\n",
        "plt.title(\"Fertilizer Class Distribution\")\n",
        "plt.ylabel(\"Count\")\n",
        "plt.show()\n"
      ],
      "metadata": {
        "colab": {
          "base_uri": "https://localhost:8080/",
          "height": 492
        },
        "id": "Tp7VLSm21Zh2",
        "outputId": "1bc8378c-5a71-4160-fc6c-a4bd8d3ea03f"
      },
      "execution_count": null,
      "outputs": [
        {
          "output_type": "display_data",
          "data": {
            "text/plain": [
              "<Figure size 640x480 with 1 Axes>"
            ],
            "image/png": "[encoded data removed]"
          },
          "metadata": {}
        }
      ]
    },
    {
      "cell_type": "code",
      "source": [
        "!pip install lightgbm\n"
      ],
      "metadata": {
        "colab": {
          "base_uri": "https://localhost:8080/"
        },
        "id": "xL9bqSZS5zds",
        "outputId": "1da7e44b-3fcf-4ecd-e071-04021fc7ad55"
      },
      "execution_count": null,
      "outputs": [
        {
          "output_type": "stream",
          "name": "stdout",
          "text": [
            "Requirement already satisfied: lightgbm in /usr/local/lib/python3.11/dist-packages (4.5.0)\n",
            "Requirement already satisfied: numpy>=1.17.0 in /usr/local/lib/python3.11/dist-packages (from lightgbm) (2.0.2)\n",
            "Requirement already satisfied: scipy in /usr/local/lib/python3.11/dist-packages (from lightgbm) (1.14.1)\n"
          ]
        }
      ]
    },
    {
      "cell_type": "code",
      "source": [
        "import lightgbm as lgb\n",
        "from sklearn.model_selection import train_test_split\n",
        "from sklearn.metrics import accuracy_score, classification_report, confusion_matrix\n",
        "import matplotlib.pyplot as plt\n",
        "\n",
        "# Split data again for LightGBM\n",
        "X_train_lgb, X_test_lgb, y_train_lgb, y_test_lgb = train_test_split(X, y, test_size=0.2, random_state=42, stratify=y)\n",
        "\n",
        "# Create LightGBM dataset\n",
        "train_data = lgb.Dataset(X_train_lgb, label=y_train_lgb)\n",
        "test_data = lgb.Dataset(X_test_lgb, label=y_test_lgb, reference=train_data)\n",
        "\n",
        "# Train LightGBM model\n",
        "params = {\n",
        "    'objective': 'multiclass',\n",
        "    'num_class': len(np.unique(y)),  # Number of fertilizer classes\n",
        "    'metric': 'multi_logloss',\n",
        "    'verbosity': -1,\n",
        "    'learning_rate': 0.05,\n",
        "    'num_leaves': 31,\n",
        "    'max_depth': -1\n",
        "}\n",
        "\n",
        "lgb_model = lgb.train(params, train_data, num_boost_round=100)\n",
        "\n",
        "# Predict\n",
        "y_pred_lgb = lgb_model.predict(X_test_lgb)\n",
        "y_pred_lgb_classes = np.argmax(y_pred_lgb, axis=1)\n",
        "\n",
        "# Evaluate\n",
        "acc_lgb = accuracy_score(y_test_lgb, y_pred_lgb_classes)\n",
        "print(f\"🌟 LightGBM Accuracy: {acc_lgb * 100:.2f}%\\n\")\n",
        "print(\"Classification Report:\")\n",
        "print(classification_report(y_test_lgb, y_pred_lgb_classes))\n"
      ],
      "metadata": {
        "colab": {
          "base_uri": "https://localhost:8080/"
        },
        "id": "IgwJbZkd53U8",
        "outputId": "100595b0-8f16-4728-b228-802ca59c4414"
      },
      "execution_count": null,
      "outputs": [
        {
          "output_type": "stream",
          "name": "stdout",
          "text": [
            "🌟 LightGBM Accuracy: 14.31%\n",
            "\n",
            "Classification Report:\n",
            "              precision    recall  f1-score   support\n",
            "\n",
            "           0       0.15      0.08      0.10       225\n",
            "           1       0.00      0.00      0.00       221\n",
            "           2       0.16      0.17      0.17       226\n",
            "           3       0.14      0.14      0.14       237\n",
            "           4       0.14      0.30      0.19       233\n",
            "           5       0.14      0.22      0.17       224\n",
            "           6       0.15      0.08      0.10       234\n",
            "\n",
            "    accuracy                           0.14      1600\n",
            "   macro avg       0.12      0.14      0.12      1600\n",
            "weighted avg       0.13      0.14      0.13      1600\n",
            "\n"
          ]
        },
        {
          "output_type": "stream",
          "name": "stderr",
          "text": [
            "/usr/local/lib/python3.11/dist-packages/sklearn/metrics/_classification.py:1565: UndefinedMetricWarning: Precision is ill-defined and being set to 0.0 in labels with no predicted samples. Use `zero_division` parameter to control this behavior.\n",
            "  _warn_prf(average, modifier, f\"{metric.capitalize()} is\", len(result))\n",
            "/usr/local/lib/python3.11/dist-packages/sklearn/metrics/_classification.py:1565: UndefinedMetricWarning: Precision is ill-defined and being set to 0.0 in labels with no predicted samples. Use `zero_division` parameter to control this behavior.\n",
            "  _warn_prf(average, modifier, f\"{metric.capitalize()} is\", len(result))\n",
            "/usr/local/lib/python3.11/dist-packages/sklearn/metrics/_classification.py:1565: UndefinedMetricWarning: Precision is ill-defined and being set to 0.0 in labels with no predicted samples. Use `zero_division` parameter to control this behavior.\n",
            "  _warn_prf(average, modifier, f\"{metric.capitalize()} is\", len(result))\n"
          ]
        }
      ]
    },
    {
      "cell_type": "code",
      "source": [
        "# Plot feature importances\n",
        "lgb.plot_importance(lgb_model, max_num_features=10, importance_type='gain')\n",
        "plt.title(\"Feature Importance - LightGBM\")\n",
        "plt.tight_layout()\n",
        "plt.show()\n"
      ],
      "metadata": {
        "colab": {
          "base_uri": "https://localhost:8080/",
          "height": 487
        },
        "id": "lVy2DZtZ5_tY",
        "outputId": "0588160e-fe0a-426a-82ac-b41ce7bf6faf"
      },
      "execution_count": null,
      "outputs": [
        {
          "output_type": "display_data",
          "data": {
            "text/plain": [
              "<Figure size 640x480 with 1 Axes>"
            ],
            "image/png": "[encoded data removed]"
          },
          "metadata": {}
        }
      ]
    },
    {
      "cell_type": "code",
      "source": [
        "# Feature Engineering\n",
        "df['NPK_Ratio'] = (df['Nitrogen'] + df['Potassium'] + df['Phosphorous']) / 3\n",
        "df['Acid_Level'] = np.where(df['Ph'] < 7, 7 - df['Ph'], 0)  # Acidity if pH < 7\n",
        "df['Combined_Index'] = df['Ph'] * df['NPK_Ratio'] / (df['Humidity'] + 1)\n",
        "\n",
        "# Rebuild feature matrix with new columns\n",
        "X_fe = df[['Temparature', 'Humidity', 'Ph', 'Nitrogen', 'Potassium', 'Phosphorous',\n",
        "           'NPK_Ratio', 'Acid_Level', 'Combined_Index']].values\n",
        "y_fe = df['Label'].values\n"
      ],
      "metadata": {
        "id": "c6z-ty6e6abz"
      },
      "execution_count": null,
      "outputs": []
    },
    {
      "cell_type": "code",
      "source": [
        "from sklearn.cluster import KMeans\n",
        "from sklearn.decomposition import PCA\n",
        "import seaborn as sns\n",
        "\n",
        "# Reduce to 2D for plotting\n",
        "pca = PCA(n_components=2)\n",
        "X_pca = pca.fit_transform(X_fe)\n",
        "\n",
        "# Apply KMeans with 7 clusters (same as number of fertilizers)\n",
        "kmeans = KMeans(n_clusters=7, random_state=42)\n",
        "clusters = kmeans.fit_predict(X_fe)\n",
        "\n",
        "# Plot clusters vs actual classes\n",
        "plt.figure(figsize=(10, 5))\n",
        "\n",
        "# Left: KMeans clusters\n",
        "plt.subplot(1, 2, 1)\n",
        "sns.scatterplot(x=X_pca[:, 0], y=X_pca[:, 1], hue=clusters, palette='tab10')\n",
        "plt.title(\"KMeans Clustering\")\n",
        "\n",
        "# Right: True labels\n",
        "plt.subplot(1, 2, 2)\n",
        "sns.scatterplot(x=X_pca[:, 0], y=X_pca[:, 1], hue=y_fe, palette='tab10')\n",
        "plt.title(\"Actual Fertilizer Labels\")\n",
        "plt.tight_layout()\n",
        "plt.show()\n"
      ],
      "metadata": {
        "colab": {
          "base_uri": "https://localhost:8080/",
          "height": 507
        },
        "id": "06ACHDdm6b8C",
        "outputId": "a2e8cad5-6a56-47a8-8978-77398f9cb1d1"
      },
      "execution_count": null,
      "outputs": [
        {
          "output_type": "display_data",
          "data": {
            "text/plain": [
              "<Figure size 1000x500 with 2 Axes>"
            ],
            "image/png": "[encoded data removed]"
          },
          "metadata": {}
        }
      ]
    },
    {
      "cell_type": "code",
      "source": [
        "!pip install xgboost\n"
      ],
      "metadata": {
        "colab": {
          "base_uri": "https://localhost:8080/"
        },
        "id": "YpXTUIC56w9o",
        "outputId": "dbca1535-f91a-491f-a8a5-4e908726f3df"
      },
      "execution_count": null,
      "outputs": [
        {
          "output_type": "stream",
          "name": "stdout",
          "text": [
            "Requirement already satisfied: xgboost in /usr/local/lib/python3.11/dist-packages (2.1.4)\n",
            "Requirement already satisfied: numpy in /usr/local/lib/python3.11/dist-packages (from xgboost) (2.0.2)\n",
            "Requirement already satisfied: nvidia-nccl-cu12 in /usr/local/lib/python3.11/dist-packages (from xgboost) (2.21.5)\n",
            "Requirement already satisfied: scipy in /usr/local/lib/python3.11/dist-packages (from xgboost) (1.14.1)\n"
          ]
        }
      ]
    },
    {
      "cell_type": "code",
      "source": [
        "import xgboost as xgb\n",
        "from sklearn.metrics import accuracy_score, classification_report\n",
        "\n",
        "X_train_xgb, X_test_xgb, y_train_xgb, y_test_xgb = train_test_split(X_fe, y_fe, test_size=0.2, stratify=y_fe, random_state=42)\n",
        "\n",
        "model_xgb = xgb.XGBClassifier(objective='multi:softmax', num_class=7, eval_metric='mlogloss', use_label_encoder=False)\n",
        "model_xgb.fit(X_train_xgb, y_train_xgb)\n",
        "\n",
        "y_pred_xgb = model_xgb.predict(X_test_xgb)\n",
        "\n",
        "acc_xgb = accuracy_score(y_test_xgb, y_pred_xgb)\n",
        "print(f\"🚀 XGBoost Accuracy on Engineered Features: {acc_xgb * 100:.2f}%\")\n",
        "print(\"\\nClassification Report:\")\n",
        "print(classification_report(y_test_xgb, y_pred_xgb))\n"
      ],
      "metadata": {
        "colab": {
          "base_uri": "https://localhost:8080/"
        },
        "id": "qMZ4sflb6zZm",
        "outputId": "42899984-fadd-4740-d63c-d630a5d27630"
      },
      "execution_count": null,
      "outputs": [
        {
          "output_type": "stream",
          "name": "stderr",
          "text": [
            "/usr/local/lib/python3.11/dist-packages/xgboost/core.py:158: UserWarning: [11:59:54] WARNING: /workspace/src/learner.cc:740: \n",
            "Parameters: { \"use_label_encoder\" } are not used.\n",
            "\n",
            "  warnings.warn(smsg, UserWarning)\n"
          ]
        },
        {
          "output_type": "stream",
          "name": "stdout",
          "text": [
            "🚀 XGBoost Accuracy on Engineered Features: 14.31%\n",
            "\n",
            "Classification Report:\n",
            "              precision    recall  f1-score   support\n",
            "\n",
            "           0       0.15      0.08      0.10       225\n",
            "           1       0.00      0.00      0.00       221\n",
            "           2       0.16      0.17      0.17       226\n",
            "           3       0.14      0.14      0.14       237\n",
            "           4       0.14      0.30      0.19       233\n",
            "           5       0.14      0.22      0.17       224\n",
            "           6       0.15      0.08      0.10       234\n",
            "\n",
            "    accuracy                           0.14      1600\n",
            "   macro avg       0.12      0.14      0.12      1600\n",
            "weighted avg       0.13      0.14      0.13      1600\n",
            "\n"
          ]
        },
        {
          "output_type": "stream",
          "name": "stderr",
          "text": [
            "/usr/local/lib/python3.11/dist-packages/sklearn/metrics/_classification.py:1565: UndefinedMetricWarning: Precision is ill-defined and being set to 0.0 in labels with no predicted samples. Use `zero_division` parameter to control this behavior.\n",
            "  _warn_prf(average, modifier, f\"{metric.capitalize()} is\", len(result))\n",
            "/usr/local/lib/python3.11/dist-packages/sklearn/metrics/_classification.py:1565: UndefinedMetricWarning: Precision is ill-defined and being set to 0.0 in labels with no predicted samples. Use `zero_division` parameter to control this behavior.\n",
            "  _warn_prf(average, modifier, f\"{metric.capitalize()} is\", len(result))\n",
            "/usr/local/lib/python3.11/dist-packages/sklearn/metrics/_classification.py:1565: UndefinedMetricWarning: Precision is ill-defined and being set to 0.0 in labels with no predicted samples. Use `zero_division` parameter to control this behavior.\n",
            "  _warn_prf(average, modifier, f\"{metric.capitalize()} is\", len(result))\n"
          ]
        }
      ]
    },
    {
      "cell_type": "code",
      "source": [
        "xgb.plot_importance(model_xgb)\n",
        "plt.title(\"XGBoost Feature Importances\")\n",
        "plt.show()\n"
      ],
      "metadata": {
        "colab": {
          "base_uri": "https://localhost:8080/",
          "height": 472
        },
        "id": "1_CifYYc68eY",
        "outputId": "bc553748-c00a-4042-bc9f-c8060661ea1b"
      },
      "execution_count": null,
      "outputs": [
        {
          "output_type": "display_data",
          "data": {
            "text/plain": [
              "<Figure size 640x480 with 1 Axes>"
            ],
            "image/png": "[encoded data removed]"
          },
          "metadata": {}
        }
      ]
    }
  ]
}